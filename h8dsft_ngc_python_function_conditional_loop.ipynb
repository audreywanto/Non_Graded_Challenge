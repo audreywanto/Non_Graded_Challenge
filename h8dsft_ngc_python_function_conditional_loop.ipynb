{
 "cells": [
  {
   "cell_type": "markdown",
   "metadata": {},
   "source": [
    "# Task 1\n",
    "**Create a function that count the number of word in a sentence.**\n",
    "\n",
    "***Instruction:***\n",
    "\n",
    "1.Create function called `number_of_word`.\n",
    "\n",
    "2.This function takes 1 input, `sentence`.\n",
    "\n",
    "3.Inside this function, you can utilize `.split()` method to split the sentence into list of word(s).\n",
    "\n",
    "4.Also, `len()` function to count the element inside a list.\n",
    "\n",
    "5.Return the number of word from the sentence.\n",
    "\n",
    "***Example:***\n",
    "\n",
    "-Input: number_of_word(sentence = ’Hello World!’)\n",
    "\n",
    "-Output: 2\n",
    "\n",
    "-Input: number_of_word(sentence = ’Once Upon a Time in a faraway land’)\n",
    "\n",
    "-Output: 8\n"
   ]
  },
  {
   "cell_type": "code",
   "execution_count": 43,
   "metadata": {},
   "outputs": [],
   "source": [
    "\n",
    "# Function definition\n",
    "def number_of_word(sentence):\n",
    "    '''Function to calculate the number of words in a sentence'''\n",
    "    sentence_list = list(sentence.split())\n",
    "    sentence_length = len(sentence_list)\n",
    "    return sentence_length"
   ]
  },
  {
   "cell_type": "code",
   "execution_count": 45,
   "metadata": {},
   "outputs": [
    {
     "name": "stdout",
     "output_type": "stream",
     "text": [
      "Output:  8\n"
     ]
    }
   ],
   "source": [
    "# Output 1\n",
    "\n",
    "# Define Parameters\n",
    "test = 'Once Upon a Time in a faraway land'\n",
    "\n",
    "print('Output: ', number_of_word(test))"
   ]
  },
  {
   "cell_type": "code",
   "execution_count": 47,
   "metadata": {},
   "outputs": [
    {
     "name": "stdout",
     "output_type": "stream",
     "text": [
      "Output:  2\n"
     ]
    }
   ],
   "source": [
    "# Output 2\n",
    "\n",
    "# Define Parameters\n",
    "test = 'Hello World!'\n",
    "\n",
    "print('Output: ', number_of_word(test))"
   ]
  },
  {
   "cell_type": "markdown",
   "metadata": {},
   "source": [
    "# Task 2\n",
    "**Create a function that will get list of number(s) from a certain range that multiples of given number.**\n",
    "\n",
    "***Instruction:***\n",
    "\n",
    "1.Create function called `find_multiples`.\n",
    "\n",
    "2.This function takes 3 input: `start_range`, `end_range`, and `multiple`.\n",
    "\n",
    "3.From every number within the given range, check if that number is the mutliples of `multiple`.\n",
    "\n",
    "4.Return list of the possible multiple number(s).\n",
    "\n",
    "***Example:***\n",
    "\n",
    "-Input: find_multiple(start_range= 1, end_range= 20, multiple= 5)\n",
    "\n",
    "-Output: [5, 10, 15, 20]\n",
    "\n",
    "-Input: find_multiple(start_range= 1, end_range= 50, multiple= 10)\n",
    "\n",
    "-Output: [10, 20, 30, 40, 50]\n"
   ]
  },
  {
   "cell_type": "code",
   "execution_count": 48,
   "metadata": {},
   "outputs": [],
   "source": [
    "# Function definition\n",
    "def find_multiples(start_range, end_range, multiple):\n",
    "    '''Function that will create a list of numbers that are a multiple from a start range to end range'''\n",
    "    newList = []\n",
    "    for i in range(start_range, (end_range + 1)):\n",
    "        if i % multiple == 0:\n",
    "            newList.append(i)\n",
    "    return newList"
   ]
  },
  {
   "cell_type": "code",
   "execution_count": 50,
   "metadata": {},
   "outputs": [
    {
     "name": "stdout",
     "output_type": "stream",
     "text": [
      "Output:  [5, 10, 15, 20]\n"
     ]
    }
   ],
   "source": [
    "# Output 1\n",
    "\n",
    "# Define parameter\n",
    "start = 1\n",
    "end = 20\n",
    "m = 5\n",
    "\n",
    "# Print the output\n",
    "print('Output: ', find_multiples(start, end, m))"
   ]
  },
  {
   "cell_type": "code",
   "execution_count": 49,
   "metadata": {},
   "outputs": [
    {
     "name": "stdout",
     "output_type": "stream",
     "text": [
      "Output:  [10, 20, 30, 40, 50]\n"
     ]
    }
   ],
   "source": [
    "# Output 2\n",
    "\n",
    "# Define parameter\n",
    "start = 1\n",
    "end = 50\n",
    "m = 10\n",
    "\n",
    "# Print the output\n",
    "print('Output: ', find_multiples(start, end, m))"
   ]
  },
  {
   "cell_type": "markdown",
   "metadata": {},
   "source": [
    "# Task 3\n",
    "\n",
    "***Create a function that will convert student's grade to GPA***\n",
    "\n",
    "**Instruction:**\n",
    "\n",
    "1.Create function called `Grade_Converter`.\n",
    "\n",
    "2.This function takes input: `convert_to` and n-paired of student(s) name with its respective score.\n",
    "\n",
    "3.Input argument for `convert_to` is either `letter_grade` or `gpa`.\n",
    "\n",
    "4.You can utilize **kwargs input argument to generate n-length paired of student(s) name with its respective score (Dictionary).\n",
    "\n",
    "5.This function will return dictionary of student’s name along with converted Letter Grade or GPA, depending on user input in `convert_to` parameter\n",
    "\n",
    "**Example:**\n",
    "\n",
    "-Input: Grade_Converter(convert_to='gpa', Adam=62, Faiz=91)\n",
    "\n",
    "-Output: {'Adam': 2.5, 'Faiz': 4}\n",
    "\n",
    "-Input: Grade_Converter(convert_to='letter_grade', Albert=90, Dwi=82, Syahdan=58, Veronica=84)\n",
    "\n",
    "-Output: {'Albert': 'A', 'Dwi': 'B', 'Syahdan': 'D','Veronica': 'B'"
   ]
  },
  {
   "cell_type": "code",
   "execution_count": 54,
   "metadata": {},
   "outputs": [],
   "source": [
    "# Function definition\n",
    "def Grade_Converter(convert_to, **n):\n",
    "    '''Function that will convert student's grade to GPA'''\n",
    "    for name, grade in n.items():\n",
    "        if convert_to == 'gpa':\n",
    "            if grade >= 85 and grade <= 100:\n",
    "                gpa = 4\n",
    "            elif grade >= 70 and grade < 85:\n",
    "                gpa = 3\n",
    "            elif grade >=60 and grade <70:\n",
    "                gpa = 2.5\n",
    "            elif grade >= 50 and grade <60:\n",
    "                gpa = 2\n",
    "            elif grade >= 40 and grade<50:\n",
    "                gpa = 1.5\n",
    "            else:\n",
    "                gpa = 1\n",
    "            print(name, gpa)\n",
    "        elif convert_to == 'letter_grade':\n",
    "            if grade >= 85 and grade<= 100:\n",
    "                letter_grade = 'A'\n",
    "            elif grade >= 70 and grade < 85:\n",
    "                letter_grade = 'B'\n",
    "            elif grade >=60 and grade <70:\n",
    "                letter_grade = 'C'\n",
    "            elif grade >= 50 and grade <60:\n",
    "                letter_grade = 'D'\n",
    "            elif grade >= 40 and grade <50:\n",
    "                letter_grade = 'E'\n",
    "            else:\n",
    "                letter_grade = 'F'\n",
    "            print(name, letter_grade)"
   ]
  },
  {
   "cell_type": "code",
   "execution_count": 53,
   "metadata": {},
   "outputs": [
    {
     "name": "stdout",
     "output_type": "stream",
     "text": [
      "Adam 2.5\n",
      "Faiz 4\n"
     ]
    }
   ],
   "source": [
    "# Output 1\n",
    "\n",
    "# Driver code\n",
    "Grade_Converter('gpa', Adam = 62, Faiz = 91)"
   ]
  },
  {
   "cell_type": "code",
   "execution_count": 55,
   "metadata": {},
   "outputs": [
    {
     "name": "stdout",
     "output_type": "stream",
     "text": [
      "Albert A\n",
      "Dwi B\n",
      "Syahdan D\n",
      "Veronica B\n"
     ]
    }
   ],
   "source": [
    "# Output 2\n",
    "\n",
    "# Driver code\n",
    "Grade_Converter('letter_grade', Albert = 90, Dwi = 82, Syahdan = 58, Veronica = 84)"
   ]
  },
  {
   "cell_type": "markdown",
   "metadata": {},
   "source": [
    "# Task 4\n",
    "\n",
    "***create a function that will return the value of n-th fibonacci number.***\n",
    "\n",
    "**Instruction:**\n",
    "\n",
    "1.The function will take 1 input parameter, n, represents the asked number from our fibonacci sequence index.\n",
    "\n",
    "2.The fibonacci sequence will start with the value of 0 and 1.\n",
    "\n",
    "3.This function will return the n-th value from fibonacci sequence.\n",
    "\n",
    "**Example:**\n",
    "\n",
    "-Input: my_function(n=0)\n",
    "\n",
    "-Output: 0\n",
    "\n",
    "-Input: my_function(n=4)\n",
    "\n",
    "-Output: 3\n",
    "\n",
    "-Input: my_function(n=10)\n",
    "\n",
    "-Output: 55"
   ]
  },
  {
   "cell_type": "code",
   "execution_count": 56,
   "metadata": {},
   "outputs": [],
   "source": [
    "# Function definition\n",
    "def fibonacci(n):\n",
    "    '''Function that creates a list of fibonacci sequence and returns the value in the nth term'''\n",
    "    flist = [0, 1]\n",
    "    z = 2\n",
    "    if n < 0:\n",
    "        print('does not exist')\n",
    "    elif n == 0:\n",
    "        return flist[0]\n",
    "    elif n == 1:\n",
    "        return flist[1]\n",
    "    else:\n",
    "        while z <= n:\n",
    "            next = flist[z-1] + flist [z-2]\n",
    "            flist.append(next)\n",
    "            z = z+1\n",
    "        return next"
   ]
  },
  {
   "cell_type": "code",
   "execution_count": 57,
   "metadata": {},
   "outputs": [
    {
     "data": {
      "text/plain": [
       "0"
      ]
     },
     "execution_count": 57,
     "metadata": {},
     "output_type": "execute_result"
    }
   ],
   "source": [
    "# Output 1\n",
    "\n",
    "fibonacci (0)"
   ]
  },
  {
   "cell_type": "code",
   "execution_count": 58,
   "metadata": {},
   "outputs": [
    {
     "data": {
      "text/plain": [
       "3"
      ]
     },
     "execution_count": 58,
     "metadata": {},
     "output_type": "execute_result"
    }
   ],
   "source": [
    "# Output 2\n",
    "\n",
    "fibonacci (4)"
   ]
  },
  {
   "cell_type": "code",
   "execution_count": 59,
   "metadata": {},
   "outputs": [
    {
     "data": {
      "text/plain": [
       "55"
      ]
     },
     "execution_count": 59,
     "metadata": {},
     "output_type": "execute_result"
    }
   ],
   "source": [
    "# Output 3\n",
    "\n",
    "fibonacci (10)"
   ]
  }
 ],
 "metadata": {
  "kernelspec": {
   "display_name": "Python 3",
   "language": "python",
   "name": "python3"
  },
  "language_info": {
   "codemirror_mode": {
    "name": "ipython",
    "version": 3
   },
   "file_extension": ".py",
   "mimetype": "text/x-python",
   "name": "python",
   "nbconvert_exporter": "python",
   "pygments_lexer": "ipython3",
   "version": "3.11.5"
  },
  "orig_nbformat": 4
 },
 "nbformat": 4,
 "nbformat_minor": 2
}
